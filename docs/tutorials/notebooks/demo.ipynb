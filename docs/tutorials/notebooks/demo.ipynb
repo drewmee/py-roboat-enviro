{
 "cells": [
  {
   "cell_type": "code",
   "execution_count": 1,
   "id": "reduced-strategy",
   "metadata": {},
   "outputs": [
    {
     "data": {
      "text/plain": [
       "True"
      ]
     },
     "execution_count": 1,
     "metadata": {},
     "output_type": "execute_result"
    }
   ],
   "source": [
    "from py_roboat_enviro import RoboatEnviroData\n",
    "from uplink.auth import ApiTokenHeader\n",
    "import json\n",
    "from dotenv import load_dotenv\n",
    "import os\n",
    "load_dotenv(\"../../../tests/.env\")"
   ]
  },
  {
   "cell_type": "markdown",
   "id": "stable-spectrum",
   "metadata": {},
   "source": [
    "# Authentication"
   ]
  },
  {
   "cell_type": "code",
   "execution_count": 2,
   "id": "waiting-initial",
   "metadata": {},
   "outputs": [],
   "source": [
    "token_auth = ApiTokenHeader(\"api-key\", os.environ[\"PROD_API_KEY\"])\n",
    "api_url = \"https://roboat-enviro.herokuapp.com/api/\"\n",
    "#token_auth = ApiTokenHeader(\"api-key\", os.environ[\"DEV_API_KEY\"])\n",
    "#api_url = \"http://localhost:5000/api/\"\n",
    "api_client = RoboatEnviroData(api_url, auth=token_auth)"
   ]
  },
  {
   "cell_type": "markdown",
   "id": "wrong-muslim",
   "metadata": {},
   "source": [
    "# Get all users"
   ]
  },
  {
   "cell_type": "code",
   "execution_count": 3,
   "id": "mediterranean-catering",
   "metadata": {},
   "outputs": [
    {
     "data": {
      "text/plain": [
       "[{'active': True, 'id': 1, 'username': 'drewm'},\n",
       " {'active': True, 'id': 2, 'username': 'test'},\n",
       " {'active': True, 'id': 3, 'username': 'jimmyzheng'}]"
      ]
     },
     "metadata": {},
     "output_type": "display_data"
    }
   ],
   "source": [
    "response = api_client.get_users()\n",
    "display(response.json())"
   ]
  },
  {
   "cell_type": "markdown",
   "id": "restricted-prior",
   "metadata": {},
   "source": [
    "# Search users"
   ]
  },
  {
   "cell_type": "code",
   "execution_count": 4,
   "id": "mature-guarantee",
   "metadata": {},
   "outputs": [
    {
     "data": {
      "text/plain": [
       "[{'active': True, 'id': 2, 'username': 'test'},\n",
       " {'active': True, 'id': 3, 'username': 'jimmyzheng'}]"
      ]
     },
     "execution_count": 4,
     "metadata": {},
     "output_type": "execute_result"
    }
   ],
   "source": [
    "filters = [{\"field\": \"id\", \"op\": \">\", \"value\": 1}]\n",
    "filters = json.dumps(filters)\n",
    "response = api_client.search_users(filters)\n",
    "response.json()"
   ]
  },
  {
   "cell_type": "markdown",
   "id": "patent-walnut",
   "metadata": {},
   "source": [
    "# Get all sensors"
   ]
  },
  {
   "cell_type": "code",
   "execution_count": 5,
   "id": "likely-express",
   "metadata": {},
   "outputs": [
    {
     "data": {
      "text/plain": [
       "[{'created_at': '2021-03-25T16:26:44',\n",
       "  'id': 1,\n",
       "  'modified_at': '2021-03-25T16:26:44',\n",
       "  'sn': 'GRE3IXER9A6M'}]"
      ]
     },
     "execution_count": 5,
     "metadata": {},
     "output_type": "execute_result"
    }
   ],
   "source": [
    "response = api_client.get_sensors()\n",
    "response.json()"
   ]
  },
  {
   "cell_type": "markdown",
   "id": "athletic-semiconductor",
   "metadata": {},
   "source": [
    "# Upload sensor diagnostics"
   ]
  },
  {
   "cell_type": "code",
   "execution_count": 6,
   "id": "spatial-academy",
   "metadata": {},
   "outputs": [
    {
     "data": {
      "text/plain": [
       "{'code': 404, 'status': 'Not Found'}"
      ]
     },
     "execution_count": 6,
     "metadata": {},
     "output_type": "execute_result"
    }
   ],
   "source": [
    "data = [\n",
    "    {\n",
    "        \"mem_avail_percent\": 0,\n",
    "        \"id\": 0,\n",
    "        \"cpu_temp\": 0,\n",
    "        \"modified_at\": None,\n",
    "        \"datetime_utc\": \"2021-03-25T17:31:37.172Z\",\n",
    "        \"mem_avail_gb\": 0,\n",
    "        \"net_conn\": True,\n",
    "        \"load_avg\": 0,\n",
    "        \"disk_usage\": 0,\n",
    "        \"created_at\": None,\n",
    "        \"sensor_sn\": \"1\",\n",
    "        \"uptime\": 0,\n",
    "    }\n",
    "]\n",
    "data = json.dumps(data)\n",
    "response = api_client.add_sensor_diagnostics(data)\n",
    "response.json()"
   ]
  },
  {
   "cell_type": "markdown",
   "id": "adverse-dragon",
   "metadata": {},
   "source": [
    "# Search sensor diagnostics"
   ]
  },
  {
   "cell_type": "code",
   "execution_count": null,
   "id": "collective-panama",
   "metadata": {},
   "outputs": [],
   "source": [
    "filters = [{\"field\": \"id\", \"op\": \">\", \"value\": 1}]\n",
    "filters = json.dumps(filters)\n",
    "response = api_client.search_sensor_diagnostics(filters)\n",
    "response.json()"
   ]
  },
  {
   "cell_type": "code",
   "execution_count": null,
   "id": "pursuant-bradford",
   "metadata": {},
   "outputs": [],
   "source": []
  }
 ],
 "metadata": {
  "kernelspec": {
   "display_name": "py-roboat-enviro",
   "language": "python",
   "name": "py-roboat-enviro"
  },
  "language_info": {
   "codemirror_mode": {
    "name": "ipython",
    "version": 3
   },
   "file_extension": ".py",
   "mimetype": "text/x-python",
   "name": "python",
   "nbconvert_exporter": "python",
   "pygments_lexer": "ipython3",
   "version": "3.7.5"
  }
 },
 "nbformat": 4,
 "nbformat_minor": 5
}
