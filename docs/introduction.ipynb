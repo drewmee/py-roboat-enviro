{
 "cells": [
  {
   "cell_type": "markdown",
   "metadata": {},
   "source": [
    "# The Roboat environmental data API Wrapper\n",
    "\n",
    "The following is an very, very small intro into the Roboat environmental API wrapper. It should give you a good idea of what is possible and will be completely documented in due time.\n",
    "\n",
    "In the near future, the wrapper will be updated with object functionality to make everything super fluid - in the mean time, we can get by with this simple API wrapper with somewhat limited functionality and little documentation...\n",
    "\n",
    "\n",
    "## Authentication\n",
    "\n",
    "To get started, you must first request an API Key. You can do so at https://www.roboat-enviro.com/api-keys. Once you have your API key, store it as an environment variable called *ROBOAT-ENVIRO_APIKEY**."
   ]
  },
  {
   "cell_type": "code",
   "execution_count": null,
   "metadata": {},
   "outputs": [],
   "source": [
    "import roboatenviro\n",
    "\n",
    "print (\"roboatenviro v{}\".format(roboatenviro.__version__))"
   ]
  },
  {
   "cell_type": "markdown",
   "metadata": {},
   "source": [
    "## Advanced Queries\n",
    "\n",
    "The API itself has quite powerful querying capabilites, though they can be a bit confusing to use at first. Eventually, I will get around to writing a \"helper\" function to make this as simple as possible.\n",
    "\n",
    "### Limit\n",
    "\n",
    "To limit the number of results you get for queries where a list of information is returned, you can add the `limit` keyword to your `params` dictionary. The argument must be an integer (i.e. `limit=5`.)\n",
    "\n",
    "Example:\n",
    "\n",
    "Return the first five devices in the list:\n",
    "\n",
    "    >>> api.get_devices(params=dict(limit=5))\n",
    "    \n",
    "### Sort\n",
    "\n",
    "You can sort the order of results by any column and either by `asc` or `desc`. The format for the `sort` keyword must be `sort=\"[column],[asc or desc]\"`. You can also join multiple sorts together using a semicolon.\n",
    "\n",
    "Example:\n",
    "\n",
    "Return the first five devices, sorted asc by the last seen column:\n",
    "\n",
    "    >>> api.get_devices(params=dict(limit=5, sort=\"last_seen,asc\"))\n",
    "    \n",
    "  \n",
    "Return the first five devices, sorted asc by last_seen and asc by username:\n",
    "\n",
    "    >>> api.get_devices(params=dict(limit=5, sort=\"last_seen,asc;username,asc\"))\n",
    "    \n",
    "\n",
    "### Filter\n",
    "\n",
    "Filter is probably the most useful because it allows you to grab data between certain timestamps! There is also a ton of embedded functionality built in. The arguments that can be used include:\n",
    "\n",
    "  * `eq`: equals\n",
    "  * `ne`: not equals\n",
    "  * `lt`: less than\n",
    "  * `le`: less than or equal to\n",
    "  * `gt`: greater than\n",
    "  * `ge`: greater than or equal to\n",
    "  * `in`: in\n",
    "  * `like`: like\n",
    "  \n",
    "The format to the argument is as follows: `filter=\"[column],[arg],[value]\"`. \n",
    "\n",
    "Examples:\n",
    "\n",
    "Grab data between May 1st and June 1st, 2018.\n",
    "\n",
    "    >>> api.get_data(sn=\"SN001\", params=dict(filter=\"timestamp,ge,2018-05-01;timestamp,lt,2018-06-01\"))\n"
   ]
  },
  {
   "cell_type": "markdown",
   "metadata": {},
   "source": [
    "## Initialize a RoboatEnviro object\n",
    "\n",
    "To start, we will first setup an object of the manager, called `roboatenviro.RoboatEnviro`. If you haven't stored your api key as an environment variable, or have called it something else, feel free to enter it here."
   ]
  },
  {
   "cell_type": "code",
   "execution_count": null,
   "metadata": {},
   "outputs": [],
   "source": [
    "import os\n",
    "\n",
    "# get the token from a different environment variable\n",
    "token = os.environ.get(\"ROBOAT-ENVIRO_APIKEY_DEV\")\n",
    "\n",
    "# set up the roboatenviro.RoboatEnviro object\n",
    "# here, we are also going to manually set the endpoint because I am doing this tutorial on \n",
    "# localhost...\n",
    "api = roboatenviro.RoboatEnviro(token=token, endpoint=\"http://localhost:5000/api/\")\n",
    "\n",
    "api"
   ]
  },
  {
   "cell_type": "markdown",
   "metadata": {},
   "source": [
    "## `roboatenviro.legacy.RoboatEnviro(*args, **kwargs)`\n",
    "\n",
    "The RoboatEnviro (can also be called the 'manager') object provides a simple way to view information about all the devices you have access to with your account. Remember, the API key is tied to your account, so don't share the key with anyone!  Please keep it safe and sound.\n",
    "\n",
    "Below, I will detail a few of the methods available from the manager:\n",
    "\n",
    "### `roboatenviro.legacy.RoboatEnviro.get_account()`\n",
    "\n",
    "The `get_account` method simply retrieves the account information tied to your API key as a dictionary."
   ]
  },
  {
   "cell_type": "code",
   "execution_count": null,
   "metadata": {},
   "outputs": [],
   "source": [
    "api.get_account()"
   ]
  },
  {
   "cell_type": "markdown",
   "metadata": {},
   "source": [
    "### `roboatenviro.legacy.RoboatEnviro.get_devices(return_type='json', **kwargs)`\n",
    "\n",
    "With the `get_devices` method, we can retrieve all the devices we have access to. You can return them either as 'json' or 'dataframe'.\n",
    "\n",
    "#### json"
   ]
  },
  {
   "cell_type": "code",
   "execution_count": null,
   "metadata": {},
   "outputs": [],
   "source": [
    "api.get_devices()"
   ]
  },
  {
   "cell_type": "markdown",
   "metadata": {},
   "source": [
    "#### dataframe"
   ]
  },
  {
   "cell_type": "code",
   "execution_count": null,
   "metadata": {},
   "outputs": [],
   "source": [
    "api.get_devices(return_type='dataframe')"
   ]
  },
  {
   "cell_type": "markdown",
   "metadata": {},
   "source": [
    "You should also be able to send whatever query params you want as keywords - see above in the \"Advanced Queries\" section for more information."
   ]
  },
  {
   "cell_type": "code",
   "execution_count": null,
   "metadata": {},
   "outputs": [],
   "source": [
    "api.get_devices(params=dict(limit=1))"
   ]
  },
  {
   "cell_type": "markdown",
   "metadata": {},
   "source": [
    "### `roboatenviro.legacy.RoboatEnviro.get_device(sn)`\n",
    "\n",
    "You can get a single device, by using this method."
   ]
  },
  {
   "cell_type": "code",
   "execution_count": null,
   "metadata": {},
   "outputs": [],
   "source": [
    "api.get_device(sn=\"SN000-001\")"
   ]
  },
  {
   "cell_type": "markdown",
   "metadata": {},
   "source": [
    "### `roboatenviro.legacy.RoboatEnviro.update_device(sn, params)`\n",
    "\n",
    "Use this method to update a device with params as a dictionary."
   ]
  },
  {
   "cell_type": "code",
   "execution_count": null,
   "metadata": {},
   "outputs": [],
   "source": [
    "params = dict(lat=12.1, lon=-100)\n",
    "\n",
    "api.update_device(\"SN000-001\", params=params)"
   ]
  },
  {
   "cell_type": "markdown",
   "metadata": {},
   "source": [
    "## `roboatenviro.legacy.RoboatEnviro.get_data(sn, return_type=\"json\", final_data=True, **kwargs)`\n",
    "\n",
    "Use this method to retrieve a list of data for a given SN."
   ]
  },
  {
   "cell_type": "code",
   "execution_count": null,
   "metadata": {},
   "outputs": [],
   "source": [
    "api.get_data(sn=\"SN000-001\", return_type=\"dataframe\", params=dict(limit=10), final_data=True)"
   ]
  },
  {
   "cell_type": "code",
   "execution_count": null,
   "metadata": {},
   "outputs": [],
   "source": [
    "# get the 'research' data - must have sufficient permissions\n",
    "api.get_data(sn=\"SN000-001\", return_type=\"dataframe\", params=dict(limit=10), final_data=False)"
   ]
  },
  {
   "cell_type": "markdown",
   "metadata": {},
   "source": [
    "Get the last 5 datapoints since March 15th:"
   ]
  },
  {
   "cell_type": "code",
   "execution_count": null,
   "metadata": {},
   "outputs": [],
   "source": [
    "api.get_data(sn=\"SN000-001\", return_type=\"dataframe\", final_data=False, \n",
    "             params=dict(filter=\"timestamp,gt,2019-03-15 22:00:00\", limit=5))"
   ]
  },
  {
   "cell_type": "markdown",
   "metadata": {},
   "source": [
    "## `roboatenviro.legacy.RoboatEnviro.get_logs(sn, return_type=\"json\", **kwargs)`\n",
    "\n",
    "Use this method to retrieve a list of logs for a given SN."
   ]
  },
  {
   "cell_type": "code",
   "execution_count": null,
   "metadata": {},
   "outputs": [],
   "source": [
    "api.get_logs(sn=\"SN000-001\", return_type='json')"
   ]
  },
  {
   "cell_type": "code",
   "execution_count": null,
   "metadata": {},
   "outputs": [],
   "source": [
    "api.get_logs(sn=\"SN000-001\", return_type='dataframe')"
   ]
  }
 ],
 "metadata": {
  "kernelspec": {
   "display_name": "python venv",
   "language": "python",
   "name": "venv"
  },
  "language_info": {
   "codemirror_mode": {
    "name": "ipython",
    "version": 2
   },
   "file_extension": ".py",
   "mimetype": "text/x-python",
   "name": "python",
   "nbconvert_exporter": "python",
   "pygments_lexer": "ipython2",
   "version": "2.7.12"
  }
 },
 "nbformat": 4,
 "nbformat_minor": 2
}
