{
 "cells": [
  {
   "cell_type": "markdown",
   "metadata": {},
   "source": [
    "# The Roboat Environmental Data API Wrapper\n",
    "\n",
    "The following is a very, very small intro into the Roboat environmental API wrapper. It should give you a good idea of what is possible and will be completely documented in due time.\n",
    "\n",
    "In the near future, the wrapper will be updated with object functionality to make everything super fluid - in the mean time, we can get by with this simple API wrapper with somewhat limited functionality and little documentation...\n",
    "\n",
    "\n",
    "## Authentication\n",
    "\n",
    "To get started, you must first request an API Key. You can do so at https://www.roboat-enviro.com/api-keys. Once you have your API key, store it as an environment variable called *ROBOAT-ENVIRO_APIKEY*."
   ]
  },
  {
   "cell_type": "code",
   "execution_count": 16,
   "metadata": {},
   "outputs": [],
   "source": [
    "import json\n",
    "from pprint import pprint\n",
    "import pandas as pd\n",
    "from datetime import datetime, timedelta"
   ]
  },
  {
   "cell_type": "code",
   "execution_count": 17,
   "metadata": {},
   "outputs": [
    {
     "name": "stdout",
     "output_type": "stream",
     "text": [
      "roboatenviro v0.1.0\n"
     ]
    }
   ],
   "source": [
    "import roboatenviro\n",
    "print (\"roboatenviro v{}\".format(roboatenviro.__version__))"
   ]
  },
  {
   "cell_type": "markdown",
   "metadata": {},
   "source": [
    "## Advanced Queries\n",
    "\n",
    "The API itself has quite powerful querying capabilites, though they can be a bit confusing to use at first. Eventually, I will get around to writing a \"helper\" function to make this as simple as possible.\n",
    "\n",
    "### Limit\n",
    "\n",
    "To limit the number of results you get for queries where a list of information is returned, you can add the `limit` keyword to your `params` dictionary. The argument must be an integer (i.e. `limit=5`.)\n",
    "\n",
    "Example:\n",
    "\n",
    "Return the first five sensors in the list:\n",
    "\n",
    "    >>> api.get_sensors(params=dict(limit=5))\n",
    "    \n",
    "### Sort\n",
    "\n",
    "You can sort the order of results by any column and either by `asc` or `desc`. The format for the `sort` keyword must be `sort=\"[column],[asc or desc]\"`. You can also join multiple sorts together using a semicolon.\n",
    "\n",
    "Example:\n",
    "\n",
    "Return the first five sensors, sorted asc by the last seen column:\n",
    "\n",
    "    >>> api.get_sensors(params=dict(limit=5, sort=\"last_seen,asc\"))\n",
    "    \n",
    "  \n",
    "Return the first five sensors, sorted asc by last_seen and asc by username:\n",
    "\n",
    "    >>> api.get_sensors(params=dict(limit=5, sort=\"last_seen,asc;username,asc\"))\n",
    "    \n",
    "\n",
    "### Filter\n",
    "\n",
    "Filter is probably the most useful because it allows you to grab data between certain timestamps! There is also a ton of embedded functionality built in. The arguments that can be used include:\n",
    "\n",
    "  * `eq`: equals\n",
    "  * `ne`: not equals\n",
    "  * `lt`: less than\n",
    "  * `le`: less than or equal to\n",
    "  * `gt`: greater than\n",
    "  * `ge`: greater than or equal to\n",
    "  * `in`: in\n",
    "  * `like`: like\n",
    "  \n",
    "The format to the argument is as follows: `filter=\"[column],[arg],[value]\"`. \n",
    "\n",
    "Examples:\n",
    "\n",
    "Grab data between May 1st and June 1st, 2018.\n",
    "\n",
    "    >>> api.get_trf_data(sn=\"SN001\", params=dict(filter=\"timestamp,ge,2018-05-01;timestamp,lt,2018-06-01\"))\n"
   ]
  },
  {
   "cell_type": "markdown",
   "metadata": {},
   "source": [
    "## Initialize a RoboatEnviro object\n",
    "\n",
    "To start, we will first setup an object of the manager, called `roboatenviro.RoboatEnviro`. If you haven't stored your api key as an environment variable, or have called it something else, feel free to enter it here."
   ]
  },
  {
   "cell_type": "code",
   "execution_count": 18,
   "metadata": {},
   "outputs": [],
   "source": [
    "import os\n",
    "# get the token from a different environment variable\n",
    "#token = os.getenv(\"ROBOAT-ENVIRO_APIKEY_DEV\")\n",
    "\n",
    "#hardcoded in here for now...\n",
    "token = \"token\"\n",
    "\n",
    "# set up the roboatenviro.RoboatEnviro object\n",
    "# here, we are also going to manually set the endpoint because I am doing this tutorial on \n",
    "# localhost...\n",
    "api = roboatenviro.RoboatEnviro(token=token, endpoint=\"http://localhost:5000/api/\")"
   ]
  },
  {
   "cell_type": "markdown",
   "metadata": {},
   "source": [
    "## `roboatenviro.RoboatEnviro(*args, **kwargs)`\n",
    "\n",
    "The RoboatEnviro (can also be called the 'manager') object provides a simple way to view information about all the sensors you have access to with your account. Remember, the API key is tied to your account, so don't share the key with anyone!  Please keep it safe and sound.\n",
    "\n",
    "Below, I will detail a few of the methods available from the manager:\n",
    "\n",
    "### `roboatenviro.legacy.RoboatEnviro.get_users(return_type='json')`\n",
    "\n",
    "The `get_account` method simply retrieves the account information tied to your API key as a dictionary."
   ]
  },
  {
   "cell_type": "code",
   "execution_count": 22,
   "metadata": {},
   "outputs": [
    {
     "name": "stdout",
     "output_type": "stream",
     "text": [
      "http://localhost:5000/api/v1/users token GET\n",
      "<Response [200]>\n"
     ]
    },
    {
     "data": {
      "text/html": [
       "<div>\n",
       "<style scoped>\n",
       "    .dataframe tbody tr th:only-of-type {\n",
       "        vertical-align: middle;\n",
       "    }\n",
       "\n",
       "    .dataframe tbody tr th {\n",
       "        vertical-align: top;\n",
       "    }\n",
       "\n",
       "    .dataframe thead th {\n",
       "        text-align: right;\n",
       "    }\n",
       "</style>\n",
       "<table border=\"1\" class=\"dataframe\">\n",
       "  <thead>\n",
       "    <tr style=\"text-align: right;\">\n",
       "      <th></th>\n",
       "    </tr>\n",
       "  </thead>\n",
       "  <tbody>\n",
       "  </tbody>\n",
       "</table>\n",
       "</div>"
      ],
      "text/plain": [
       "Empty DataFrame\n",
       "Columns: []\n",
       "Index: []"
      ]
     },
     "execution_count": 22,
     "metadata": {},
     "output_type": "execute_result"
    }
   ],
   "source": [
    "api.get_users(return_type='dataframe')\n",
    "#api.add_user() #TODO\n",
    "#api.update_user() #TODO\n",
    "#api.delete_user(\"drew\")"
   ]
  },
  {
   "cell_type": "markdown",
   "metadata": {},
   "source": [
    "### `roboatenviro.RoboatEnviro.add_sensor(**kwargs)`\n",
    "\n",
    "Use this method to add a sensor to the db."
   ]
  },
  {
   "cell_type": "code",
   "execution_count": 25,
   "metadata": {},
   "outputs": [
    {
     "name": "stdout",
     "output_type": "stream",
     "text": [
      "http://localhost:5000/api/v1/sensors token GET\n",
      "<Response [200]>\n",
      "http://localhost:5000/api/v1/sensors/ token POST\n"
     ]
    },
    {
     "data": {
      "text/plain": [
       "<Response [500]>"
      ]
     },
     "execution_count": 25,
     "metadata": {},
     "output_type": "execute_result"
    }
   ],
   "source": [
    "api.get_sensors()\n",
    "api.add_sensor(params=dict(sn=\"SN001\"))"
   ]
  },
  {
   "cell_type": "markdown",
   "metadata": {},
   "source": [
    "### `roboatenviro.RoboatEnviro.get_sensors(return_type='json', **kwargs)`\n",
    "\n",
    "With the `get_sensors` method, we can retrieve all the sensors we have access to. You can return them either as 'json' or 'dataframe'.\n",
    "\n",
    "#### json"
   ]
  },
  {
   "cell_type": "code",
   "execution_count": 26,
   "metadata": {},
   "outputs": [
    {
     "name": "stdout",
     "output_type": "stream",
     "text": [
      "http://localhost:5000/api/v1/sensors token GET\n",
      "<Response [200]>\n"
     ]
    },
    {
     "data": {
      "text/plain": [
       "[{'created_at': 'Thu, 09 Jan 2020 01:42:49 GMT', 'id': 8, 'sn': 'SN001'}]"
      ]
     },
     "execution_count": 26,
     "metadata": {},
     "output_type": "execute_result"
    }
   ],
   "source": [
    "api.get_sensors()"
   ]
  },
  {
   "cell_type": "markdown",
   "metadata": {},
   "source": [
    "#### dataframe"
   ]
  },
  {
   "cell_type": "code",
   "execution_count": 27,
   "metadata": {},
   "outputs": [
    {
     "name": "stdout",
     "output_type": "stream",
     "text": [
      "http://localhost:5000/api/v1/sensors token GET\n",
      "<Response [200]>\n"
     ]
    },
    {
     "data": {
      "text/html": [
       "<div>\n",
       "<style scoped>\n",
       "    .dataframe tbody tr th:only-of-type {\n",
       "        vertical-align: middle;\n",
       "    }\n",
       "\n",
       "    .dataframe tbody tr th {\n",
       "        vertical-align: top;\n",
       "    }\n",
       "\n",
       "    .dataframe thead th {\n",
       "        text-align: right;\n",
       "    }\n",
       "</style>\n",
       "<table border=\"1\" class=\"dataframe\">\n",
       "  <thead>\n",
       "    <tr style=\"text-align: right;\">\n",
       "      <th></th>\n",
       "      <th>created_at</th>\n",
       "      <th>id</th>\n",
       "      <th>sn</th>\n",
       "    </tr>\n",
       "  </thead>\n",
       "  <tbody>\n",
       "    <tr>\n",
       "      <th>0</th>\n",
       "      <td>Thu, 09 Jan 2020 01:42:49 GMT</td>\n",
       "      <td>8</td>\n",
       "      <td>SN001</td>\n",
       "    </tr>\n",
       "  </tbody>\n",
       "</table>\n",
       "</div>"
      ],
      "text/plain": [
       "                      created_at  id     sn\n",
       "0  Thu, 09 Jan 2020 01:42:49 GMT   8  SN001"
      ]
     },
     "execution_count": 27,
     "metadata": {},
     "output_type": "execute_result"
    }
   ],
   "source": [
    "api.get_sensors(return_type='dataframe')"
   ]
  },
  {
   "cell_type": "markdown",
   "metadata": {},
   "source": [
    "You should also be able to send whatever query params you want as keywords - see above in the \"Advanced Queries\" section for more information."
   ]
  },
  {
   "cell_type": "code",
   "execution_count": 28,
   "metadata": {},
   "outputs": [
    {
     "name": "stdout",
     "output_type": "stream",
     "text": [
      "http://localhost:5000/api/v1/sensors token GET\n",
      "<Response [200]>\n"
     ]
    },
    {
     "data": {
      "text/html": [
       "<div>\n",
       "<style scoped>\n",
       "    .dataframe tbody tr th:only-of-type {\n",
       "        vertical-align: middle;\n",
       "    }\n",
       "\n",
       "    .dataframe tbody tr th {\n",
       "        vertical-align: top;\n",
       "    }\n",
       "\n",
       "    .dataframe thead th {\n",
       "        text-align: right;\n",
       "    }\n",
       "</style>\n",
       "<table border=\"1\" class=\"dataframe\">\n",
       "  <thead>\n",
       "    <tr style=\"text-align: right;\">\n",
       "      <th></th>\n",
       "      <th>created_at</th>\n",
       "      <th>id</th>\n",
       "      <th>sn</th>\n",
       "    </tr>\n",
       "  </thead>\n",
       "  <tbody>\n",
       "    <tr>\n",
       "      <th>0</th>\n",
       "      <td>Thu, 09 Jan 2020 01:42:49 GMT</td>\n",
       "      <td>8</td>\n",
       "      <td>SN001</td>\n",
       "    </tr>\n",
       "  </tbody>\n",
       "</table>\n",
       "</div>"
      ],
      "text/plain": [
       "                      created_at  id     sn\n",
       "0  Thu, 09 Jan 2020 01:42:49 GMT   8  SN001"
      ]
     },
     "execution_count": 28,
     "metadata": {},
     "output_type": "execute_result"
    }
   ],
   "source": [
    "api.get_sensors(return_type='dataframe', params=dict(limit=1))"
   ]
  },
  {
   "cell_type": "markdown",
   "metadata": {},
   "source": [
    "### `roboatenviro.RoboatEnviro.get_sensor(sn)`\n",
    "\n",
    "You can get a single sensor, by using this method."
   ]
  },
  {
   "cell_type": "code",
   "execution_count": 29,
   "metadata": {},
   "outputs": [
    {
     "name": "stdout",
     "output_type": "stream",
     "text": [
      "http://localhost:5000/api/v1/sensors/SN001 token GET\n",
      "<Response [200]>\n"
     ]
    },
    {
     "data": {
      "text/plain": [
       "{'created_at': '2020-01-09T01:42:49.478422',\n",
       " 'id': 8,\n",
       " 'modified_at': '2020-01-09T01:42:49.478429',\n",
       " 'sn': 'SN001'}"
      ]
     },
     "execution_count": 29,
     "metadata": {},
     "output_type": "execute_result"
    }
   ],
   "source": [
    "api.get_sensor(sn=\"SN001\")"
   ]
  },
  {
   "cell_type": "markdown",
   "metadata": {},
   "source": [
    "### `roboatenviro.RoboatEnviro.update_sensor(sn, params)`\n",
    "\n",
    "Use this method to update a sensor with params as a dictionary."
   ]
  },
  {
   "cell_type": "code",
   "execution_count": 30,
   "metadata": {},
   "outputs": [
    {
     "name": "stdout",
     "output_type": "stream",
     "text": [
      "http://localhost:5000/api/v1/sensors/SN001 token PUT\n",
      "<Response [200]>\n",
      "http://localhost:5000/api/v1/sensors/SN002 token PUT\n",
      "<Response [200]>\n"
     ]
    },
    {
     "data": {
      "text/plain": [
       "{'created_at': '2020-01-09T01:42:49.478422',\n",
       " 'id': 8,\n",
       " 'modified_at': '2020-01-09T01:43:12.504173',\n",
       " 'sn': 'SN001'}"
      ]
     },
     "execution_count": 30,
     "metadata": {},
     "output_type": "execute_result"
    }
   ],
   "source": [
    "#params = dict(lat=12.1, lon=-100)\n",
    "params = dict(sn=\"SN002\")\n",
    "api.update_sensor(\"SN001\", params=params)\n",
    "params = dict(sn=\"SN001\")\n",
    "api.update_sensor(\"SN002\", params=params)"
   ]
  },
  {
   "cell_type": "markdown",
   "metadata": {},
   "source": [
    "### `roboatenviro.RoboatEnviro.delete_sensor(sn, params)`\n",
    "\n",
    "Use this method to delete a sensor (CAUTION: deletion cascades to all related tables)."
   ]
  },
  {
   "cell_type": "code",
   "execution_count": 31,
   "metadata": {},
   "outputs": [],
   "source": [
    "#api.delete_sensor(sn=\"SN001\")"
   ]
  },
  {
   "cell_type": "markdown",
   "metadata": {},
   "source": [
    "### `roboatenviro.RoboatEnviro.add_trf_scan_set(**kwargs)`\n",
    "\n",
    "Use this method to add a TRF scan set to the db."
   ]
  },
  {
   "cell_type": "code",
   "execution_count": 32,
   "metadata": {},
   "outputs": [
    {
     "name": "stdout",
     "output_type": "stream",
     "text": [
      "http://localhost:5000/api/v1/trf-scan-sets/ token POST\n",
      "scan_set_id:  37\n"
     ]
    },
    {
     "data": {
      "text/html": [
       "<div>\n",
       "<style scoped>\n",
       "    .dataframe tbody tr th:only-of-type {\n",
       "        vertical-align: middle;\n",
       "    }\n",
       "\n",
       "    .dataframe tbody tr th {\n",
       "        vertical-align: top;\n",
       "    }\n",
       "\n",
       "    .dataframe thead th {\n",
       "        text-align: right;\n",
       "    }\n",
       "</style>\n",
       "<table border=\"1\" class=\"dataframe\">\n",
       "  <thead>\n",
       "    <tr style=\"text-align: right;\">\n",
       "      <th></th>\n",
       "      <th>mcr_wl</th>\n",
       "      <th>trf_scan</th>\n",
       "      <th>scan_datetime</th>\n",
       "      <th>scan_set_id</th>\n",
       "    </tr>\n",
       "  </thead>\n",
       "  <tbody>\n",
       "    <tr>\n",
       "      <th>0</th>\n",
       "      <td>325</td>\n",
       "      <td>[0.04500000000000052, 0.04500000000000052, 0.0...</td>\n",
       "      <td>2020-01-09T01:43:20.115608</td>\n",
       "      <td>37</td>\n",
       "    </tr>\n",
       "    <tr>\n",
       "      <th>1</th>\n",
       "      <td>326</td>\n",
       "      <td>[0.04500000000000052, 0.04500000000000052, 0.0...</td>\n",
       "      <td>2020-01-09T01:43:20.115608</td>\n",
       "      <td>37</td>\n",
       "    </tr>\n",
       "    <tr>\n",
       "      <th>2</th>\n",
       "      <td>327</td>\n",
       "      <td>[0.04500000000000052, 0.04500000000000052, 0.0...</td>\n",
       "      <td>2020-01-09T01:43:20.115608</td>\n",
       "      <td>37</td>\n",
       "    </tr>\n",
       "    <tr>\n",
       "      <th>3</th>\n",
       "      <td>328</td>\n",
       "      <td>[0.04500000000000052, 0.04500000000000052, 0.0...</td>\n",
       "      <td>2020-01-09T01:43:20.115608</td>\n",
       "      <td>37</td>\n",
       "    </tr>\n",
       "    <tr>\n",
       "      <th>4</th>\n",
       "      <td>329</td>\n",
       "      <td>[0.04500000000000052, 0.04500000000000052, 0.0...</td>\n",
       "      <td>2020-01-09T01:43:20.115608</td>\n",
       "      <td>37</td>\n",
       "    </tr>\n",
       "  </tbody>\n",
       "</table>\n",
       "</div>"
      ],
      "text/plain": [
       "   mcr_wl                                           trf_scan  \\\n",
       "0     325  [0.04500000000000052, 0.04500000000000052, 0.0...   \n",
       "1     326  [0.04500000000000052, 0.04500000000000052, 0.0...   \n",
       "2     327  [0.04500000000000052, 0.04500000000000052, 0.0...   \n",
       "3     328  [0.04500000000000052, 0.04500000000000052, 0.0...   \n",
       "4     329  [0.04500000000000052, 0.04500000000000052, 0.0...   \n",
       "\n",
       "                scan_datetime  scan_set_id  \n",
       "0  2020-01-09T01:43:20.115608           37  \n",
       "1  2020-01-09T01:43:20.115608           37  \n",
       "2  2020-01-09T01:43:20.115608           37  \n",
       "3  2020-01-09T01:43:20.115608           37  \n",
       "4  2020-01-09T01:43:20.115608           37  "
      ]
     },
     "metadata": {},
     "output_type": "display_data"
    }
   ],
   "source": [
    "df = pd.read_csv(\"trf_upload.csv\")\n",
    "df[\"scan_datetime\"] = datetime.utcnow().isoformat()\n",
    "df.drop([\"sensor_sn\"], axis=1, inplace=True)\n",
    "params = {\n",
    "    \"sensor_sn\": \"SN001\",\n",
    "    \"start_wl\": int(df[\"mcr_wl\"].min()),\n",
    "    \"end_wl\": int(df[\"mcr_wl\"].max()),\n",
    "    \"start_datetime\": df[\"scan_datetime\"].min(),\n",
    "    \"end_datetime\": df[\"scan_datetime\"].max()\n",
    "}\n",
    "scan_set = api.add_trf_scan_set(params=params)\n",
    "scan_set = json.loads(scan_set.text)\n",
    "scan_set_id = scan_set['id']\n",
    "print(\"scan_set_id: \", scan_set_id)\n",
    "df['scan_set_id'] = scan_set_id\n",
    "display(df.head())"
   ]
  },
  {
   "cell_type": "markdown",
   "metadata": {},
   "source": [
    "### `roboatenviro.RoboatEnviro.add_trf_data(**kwargs)`\n",
    "\n",
    "Use this method to add a TRF scans to the db."
   ]
  },
  {
   "cell_type": "code",
   "execution_count": 33,
   "metadata": {},
   "outputs": [
    {
     "name": "stdout",
     "output_type": "stream",
     "text": [
      "http://localhost:5000/api/v1/raw-trf-data/ token POST\n",
      "http://localhost:5000/api/v1/raw-trf-data/ token POST\n",
      "http://localhost:5000/api/v1/raw-trf-data/ token POST\n",
      "http://localhost:5000/api/v1/raw-trf-data/ token POST\n",
      "http://localhost:5000/api/v1/raw-trf-data/ token POST\n",
      "http://localhost:5000/api/v1/raw-trf-data/ token POST\n",
      "http://localhost:5000/api/v1/raw-trf-data/ token POST\n",
      "http://localhost:5000/api/v1/raw-trf-data/ token POST\n",
      "http://localhost:5000/api/v1/raw-trf-data/ token POST\n",
      "http://localhost:5000/api/v1/raw-trf-data/ token POST\n",
      "http://localhost:5000/api/v1/raw-trf-data/ token POST\n",
      "http://localhost:5000/api/v1/raw-trf-data/ token POST\n",
      "http://localhost:5000/api/v1/raw-trf-data/ token POST\n",
      "http://localhost:5000/api/v1/raw-trf-data/ token POST\n",
      "http://localhost:5000/api/v1/raw-trf-data/ token POST\n",
      "http://localhost:5000/api/v1/raw-trf-data/ token POST\n",
      "http://localhost:5000/api/v1/raw-trf-data/ token POST\n",
      "http://localhost:5000/api/v1/raw-trf-data/ token POST\n",
      "http://localhost:5000/api/v1/raw-trf-data/ token POST\n",
      "http://localhost:5000/api/v1/raw-trf-data/ token POST\n",
      "http://localhost:5000/api/v1/raw-trf-data/ token POST\n",
      "http://localhost:5000/api/v1/raw-trf-data/ token POST\n",
      "http://localhost:5000/api/v1/raw-trf-data/ token POST\n",
      "http://localhost:5000/api/v1/raw-trf-data/ token POST\n",
      "http://localhost:5000/api/v1/raw-trf-data/ token POST\n",
      "http://localhost:5000/api/v1/raw-trf-data/ token POST\n"
     ]
    }
   ],
   "source": [
    "for idx, row in df.iterrows():\n",
    "    params = row.to_dict()\n",
    "    api.add_trf_data(params=params)"
   ]
  },
  {
   "cell_type": "markdown",
   "metadata": {},
   "source": [
    "### `roboatenviro.RoboatEnviro.get_trf_scan_set(sn, return_type=\"json\", final_data=True, **kwargs)`\n",
    "\n",
    "Use this method to retrieve a list of TRF scan sets for a given SN."
   ]
  },
  {
   "cell_type": "code",
   "execution_count": 37,
   "metadata": {},
   "outputs": [
    {
     "name": "stdout",
     "output_type": "stream",
     "text": [
      "http://localhost:5000/api/v1/trf-scan-sets/ token GET\n",
      "<Response [200]>\n"
     ]
    },
    {
     "data": {
      "text/html": [
       "<div>\n",
       "<style scoped>\n",
       "    .dataframe tbody tr th:only-of-type {\n",
       "        vertical-align: middle;\n",
       "    }\n",
       "\n",
       "    .dataframe tbody tr th {\n",
       "        vertical-align: top;\n",
       "    }\n",
       "\n",
       "    .dataframe thead th {\n",
       "        text-align: right;\n",
       "    }\n",
       "</style>\n",
       "<table border=\"1\" class=\"dataframe\">\n",
       "  <thead>\n",
       "    <tr style=\"text-align: right;\">\n",
       "      <th></th>\n",
       "      <th>end_datetime</th>\n",
       "      <th>end_wl</th>\n",
       "      <th>id</th>\n",
       "      <th>sensor_sn</th>\n",
       "      <th>start_datetime</th>\n",
       "      <th>start_wl</th>\n",
       "    </tr>\n",
       "  </thead>\n",
       "  <tbody>\n",
       "    <tr>\n",
       "      <th>0</th>\n",
       "      <td>Thu, 09 Jan 2020 01:43:20 GMT</td>\n",
       "      <td>350</td>\n",
       "      <td>37</td>\n",
       "      <td>SN001</td>\n",
       "      <td>Thu, 09 Jan 2020 01:43:20 GMT</td>\n",
       "      <td>325</td>\n",
       "    </tr>\n",
       "  </tbody>\n",
       "</table>\n",
       "</div>"
      ],
      "text/plain": [
       "                    end_datetime  end_wl  id sensor_sn  \\\n",
       "0  Thu, 09 Jan 2020 01:43:20 GMT     350  37     SN001   \n",
       "\n",
       "                  start_datetime  start_wl  \n",
       "0  Thu, 09 Jan 2020 01:43:20 GMT       325  "
      ]
     },
     "metadata": {},
     "output_type": "display_data"
    }
   ],
   "source": [
    "display(api.get_trf_scan_set(\"SN001\", return_type=\"dataframe\"))"
   ]
  },
  {
   "cell_type": "markdown",
   "metadata": {},
   "source": [
    "### `roboatenviro.RoboatEnviro.get_trf_data(sn, return_type=\"json\", final_data=True, **kwargs)`\n",
    "\n",
    "Use this method to retrieve a list of TRF data for a given SN."
   ]
  },
  {
   "cell_type": "code",
   "execution_count": 35,
   "metadata": {
    "scrolled": true
   },
   "outputs": [
    {
     "name": "stdout",
     "output_type": "stream",
     "text": [
      "http://localhost:5000/api/v1/raw-trf-data/ token GET\n",
      "<Response [200]>\n"
     ]
    },
    {
     "data": {
      "text/html": [
       "<div>\n",
       "<style scoped>\n",
       "    .dataframe tbody tr th:only-of-type {\n",
       "        vertical-align: middle;\n",
       "    }\n",
       "\n",
       "    .dataframe tbody tr th {\n",
       "        vertical-align: top;\n",
       "    }\n",
       "\n",
       "    .dataframe thead th {\n",
       "        text-align: right;\n",
       "    }\n",
       "</style>\n",
       "<table border=\"1\" class=\"dataframe\">\n",
       "  <thead>\n",
       "    <tr style=\"text-align: right;\">\n",
       "      <th></th>\n",
       "      <th>id</th>\n",
       "      <th>mcr_wl</th>\n",
       "      <th>scan_datetime</th>\n",
       "      <th>scan_set_id</th>\n",
       "      <th>trf_scan</th>\n",
       "    </tr>\n",
       "  </thead>\n",
       "  <tbody>\n",
       "    <tr>\n",
       "      <th>0</th>\n",
       "      <td>268</td>\n",
       "      <td>325</td>\n",
       "      <td>Thu, 09 Jan 2020 01:43:20 GMT</td>\n",
       "      <td>37</td>\n",
       "      <td>[0.04500000000000052, 0.04500000000000052, 0.0...</td>\n",
       "    </tr>\n",
       "    <tr>\n",
       "      <th>1</th>\n",
       "      <td>269</td>\n",
       "      <td>326</td>\n",
       "      <td>Thu, 09 Jan 2020 01:43:20 GMT</td>\n",
       "      <td>37</td>\n",
       "      <td>[0.04500000000000052, 0.04500000000000052, 0.0...</td>\n",
       "    </tr>\n",
       "    <tr>\n",
       "      <th>2</th>\n",
       "      <td>270</td>\n",
       "      <td>327</td>\n",
       "      <td>Thu, 09 Jan 2020 01:43:20 GMT</td>\n",
       "      <td>37</td>\n",
       "      <td>[0.04500000000000052, 0.04500000000000052, 0.0...</td>\n",
       "    </tr>\n",
       "    <tr>\n",
       "      <th>3</th>\n",
       "      <td>271</td>\n",
       "      <td>328</td>\n",
       "      <td>Thu, 09 Jan 2020 01:43:20 GMT</td>\n",
       "      <td>37</td>\n",
       "      <td>[0.04500000000000052, 0.04500000000000052, 0.0...</td>\n",
       "    </tr>\n",
       "    <tr>\n",
       "      <th>4</th>\n",
       "      <td>272</td>\n",
       "      <td>329</td>\n",
       "      <td>Thu, 09 Jan 2020 01:43:20 GMT</td>\n",
       "      <td>37</td>\n",
       "      <td>[0.04500000000000052, 0.04500000000000052, 0.0...</td>\n",
       "    </tr>\n",
       "    <tr>\n",
       "      <th>5</th>\n",
       "      <td>273</td>\n",
       "      <td>330</td>\n",
       "      <td>Thu, 09 Jan 2020 01:43:20 GMT</td>\n",
       "      <td>37</td>\n",
       "      <td>[0.04500000000000052, 0.04500000000000052, 0.0...</td>\n",
       "    </tr>\n",
       "    <tr>\n",
       "      <th>6</th>\n",
       "      <td>274</td>\n",
       "      <td>331</td>\n",
       "      <td>Thu, 09 Jan 2020 01:43:20 GMT</td>\n",
       "      <td>37</td>\n",
       "      <td>[0.04500000000000052, 0.04500000000000052, 0.0...</td>\n",
       "    </tr>\n",
       "    <tr>\n",
       "      <th>7</th>\n",
       "      <td>275</td>\n",
       "      <td>332</td>\n",
       "      <td>Thu, 09 Jan 2020 01:43:20 GMT</td>\n",
       "      <td>37</td>\n",
       "      <td>[0.04500000000000052, 0.04500000000000052, 0.0...</td>\n",
       "    </tr>\n",
       "    <tr>\n",
       "      <th>8</th>\n",
       "      <td>276</td>\n",
       "      <td>333</td>\n",
       "      <td>Thu, 09 Jan 2020 01:43:20 GMT</td>\n",
       "      <td>37</td>\n",
       "      <td>[0.04500000000000052, 0.04500000000000052, 0.0...</td>\n",
       "    </tr>\n",
       "    <tr>\n",
       "      <th>9</th>\n",
       "      <td>277</td>\n",
       "      <td>334</td>\n",
       "      <td>Thu, 09 Jan 2020 01:43:20 GMT</td>\n",
       "      <td>37</td>\n",
       "      <td>[0.04500000000000052, 0.04500000000000052, 0.0...</td>\n",
       "    </tr>\n",
       "    <tr>\n",
       "      <th>10</th>\n",
       "      <td>278</td>\n",
       "      <td>335</td>\n",
       "      <td>Thu, 09 Jan 2020 01:43:20 GMT</td>\n",
       "      <td>37</td>\n",
       "      <td>[0.04500000000000052, 0.04500000000000052, 0.0...</td>\n",
       "    </tr>\n",
       "    <tr>\n",
       "      <th>11</th>\n",
       "      <td>279</td>\n",
       "      <td>336</td>\n",
       "      <td>Thu, 09 Jan 2020 01:43:20 GMT</td>\n",
       "      <td>37</td>\n",
       "      <td>[0.04500000000000052, 0.04500000000000052, 0.0...</td>\n",
       "    </tr>\n",
       "    <tr>\n",
       "      <th>12</th>\n",
       "      <td>280</td>\n",
       "      <td>337</td>\n",
       "      <td>Thu, 09 Jan 2020 01:43:20 GMT</td>\n",
       "      <td>37</td>\n",
       "      <td>[0.04500000000000052, 0.04500000000000052, 0.0...</td>\n",
       "    </tr>\n",
       "    <tr>\n",
       "      <th>13</th>\n",
       "      <td>281</td>\n",
       "      <td>338</td>\n",
       "      <td>Thu, 09 Jan 2020 01:43:20 GMT</td>\n",
       "      <td>37</td>\n",
       "      <td>[0.04500000000000052, 0.04500000000000052, 0.0...</td>\n",
       "    </tr>\n",
       "    <tr>\n",
       "      <th>14</th>\n",
       "      <td>282</td>\n",
       "      <td>339</td>\n",
       "      <td>Thu, 09 Jan 2020 01:43:20 GMT</td>\n",
       "      <td>37</td>\n",
       "      <td>[0.04500000000000052, 0.04500000000000052, 0.0...</td>\n",
       "    </tr>\n",
       "    <tr>\n",
       "      <th>15</th>\n",
       "      <td>283</td>\n",
       "      <td>340</td>\n",
       "      <td>Thu, 09 Jan 2020 01:43:20 GMT</td>\n",
       "      <td>37</td>\n",
       "      <td>[0.04500000000000052, 0.04500000000000052, 0.0...</td>\n",
       "    </tr>\n",
       "    <tr>\n",
       "      <th>16</th>\n",
       "      <td>284</td>\n",
       "      <td>341</td>\n",
       "      <td>Thu, 09 Jan 2020 01:43:20 GMT</td>\n",
       "      <td>37</td>\n",
       "      <td>[0.04500000000000052, 0.04500000000000052, 0.0...</td>\n",
       "    </tr>\n",
       "    <tr>\n",
       "      <th>17</th>\n",
       "      <td>285</td>\n",
       "      <td>342</td>\n",
       "      <td>Thu, 09 Jan 2020 01:43:20 GMT</td>\n",
       "      <td>37</td>\n",
       "      <td>[0.04500000000000052, 0.04500000000000052, 0.0...</td>\n",
       "    </tr>\n",
       "    <tr>\n",
       "      <th>18</th>\n",
       "      <td>286</td>\n",
       "      <td>343</td>\n",
       "      <td>Thu, 09 Jan 2020 01:43:20 GMT</td>\n",
       "      <td>37</td>\n",
       "      <td>[0.04500000000000052, 0.04500000000000052, 0.0...</td>\n",
       "    </tr>\n",
       "    <tr>\n",
       "      <th>19</th>\n",
       "      <td>287</td>\n",
       "      <td>344</td>\n",
       "      <td>Thu, 09 Jan 2020 01:43:20 GMT</td>\n",
       "      <td>37</td>\n",
       "      <td>[0.04500000000000052, 0.04500000000000052, 0.0...</td>\n",
       "    </tr>\n",
       "    <tr>\n",
       "      <th>20</th>\n",
       "      <td>288</td>\n",
       "      <td>345</td>\n",
       "      <td>Thu, 09 Jan 2020 01:43:20 GMT</td>\n",
       "      <td>37</td>\n",
       "      <td>[0.04500000000000052, 0.04500000000000052, 0.0...</td>\n",
       "    </tr>\n",
       "    <tr>\n",
       "      <th>21</th>\n",
       "      <td>289</td>\n",
       "      <td>346</td>\n",
       "      <td>Thu, 09 Jan 2020 01:43:20 GMT</td>\n",
       "      <td>37</td>\n",
       "      <td>[0.04500000000000052, 0.04500000000000052, 0.0...</td>\n",
       "    </tr>\n",
       "    <tr>\n",
       "      <th>22</th>\n",
       "      <td>290</td>\n",
       "      <td>347</td>\n",
       "      <td>Thu, 09 Jan 2020 01:43:20 GMT</td>\n",
       "      <td>37</td>\n",
       "      <td>[0.04500000000000052, 0.04500000000000052, 0.0...</td>\n",
       "    </tr>\n",
       "    <tr>\n",
       "      <th>23</th>\n",
       "      <td>291</td>\n",
       "      <td>348</td>\n",
       "      <td>Thu, 09 Jan 2020 01:43:20 GMT</td>\n",
       "      <td>37</td>\n",
       "      <td>[0.04500000000000052, 0.04500000000000052, 0.0...</td>\n",
       "    </tr>\n",
       "    <tr>\n",
       "      <th>24</th>\n",
       "      <td>292</td>\n",
       "      <td>349</td>\n",
       "      <td>Thu, 09 Jan 2020 01:43:20 GMT</td>\n",
       "      <td>37</td>\n",
       "      <td>[0.04500000000000052, 0.04500000000000052, 0.0...</td>\n",
       "    </tr>\n",
       "    <tr>\n",
       "      <th>25</th>\n",
       "      <td>293</td>\n",
       "      <td>350</td>\n",
       "      <td>Thu, 09 Jan 2020 01:43:20 GMT</td>\n",
       "      <td>37</td>\n",
       "      <td>[0.04500000000000052, 0.04500000000000052, 0.0...</td>\n",
       "    </tr>\n",
       "  </tbody>\n",
       "</table>\n",
       "</div>"
      ],
      "text/plain": [
       "     id  mcr_wl                  scan_datetime  scan_set_id  \\\n",
       "0   268     325  Thu, 09 Jan 2020 01:43:20 GMT           37   \n",
       "1   269     326  Thu, 09 Jan 2020 01:43:20 GMT           37   \n",
       "2   270     327  Thu, 09 Jan 2020 01:43:20 GMT           37   \n",
       "3   271     328  Thu, 09 Jan 2020 01:43:20 GMT           37   \n",
       "4   272     329  Thu, 09 Jan 2020 01:43:20 GMT           37   \n",
       "5   273     330  Thu, 09 Jan 2020 01:43:20 GMT           37   \n",
       "6   274     331  Thu, 09 Jan 2020 01:43:20 GMT           37   \n",
       "7   275     332  Thu, 09 Jan 2020 01:43:20 GMT           37   \n",
       "8   276     333  Thu, 09 Jan 2020 01:43:20 GMT           37   \n",
       "9   277     334  Thu, 09 Jan 2020 01:43:20 GMT           37   \n",
       "10  278     335  Thu, 09 Jan 2020 01:43:20 GMT           37   \n",
       "11  279     336  Thu, 09 Jan 2020 01:43:20 GMT           37   \n",
       "12  280     337  Thu, 09 Jan 2020 01:43:20 GMT           37   \n",
       "13  281     338  Thu, 09 Jan 2020 01:43:20 GMT           37   \n",
       "14  282     339  Thu, 09 Jan 2020 01:43:20 GMT           37   \n",
       "15  283     340  Thu, 09 Jan 2020 01:43:20 GMT           37   \n",
       "16  284     341  Thu, 09 Jan 2020 01:43:20 GMT           37   \n",
       "17  285     342  Thu, 09 Jan 2020 01:43:20 GMT           37   \n",
       "18  286     343  Thu, 09 Jan 2020 01:43:20 GMT           37   \n",
       "19  287     344  Thu, 09 Jan 2020 01:43:20 GMT           37   \n",
       "20  288     345  Thu, 09 Jan 2020 01:43:20 GMT           37   \n",
       "21  289     346  Thu, 09 Jan 2020 01:43:20 GMT           37   \n",
       "22  290     347  Thu, 09 Jan 2020 01:43:20 GMT           37   \n",
       "23  291     348  Thu, 09 Jan 2020 01:43:20 GMT           37   \n",
       "24  292     349  Thu, 09 Jan 2020 01:43:20 GMT           37   \n",
       "25  293     350  Thu, 09 Jan 2020 01:43:20 GMT           37   \n",
       "\n",
       "                                             trf_scan  \n",
       "0   [0.04500000000000052, 0.04500000000000052, 0.0...  \n",
       "1   [0.04500000000000052, 0.04500000000000052, 0.0...  \n",
       "2   [0.04500000000000052, 0.04500000000000052, 0.0...  \n",
       "3   [0.04500000000000052, 0.04500000000000052, 0.0...  \n",
       "4   [0.04500000000000052, 0.04500000000000052, 0.0...  \n",
       "5   [0.04500000000000052, 0.04500000000000052, 0.0...  \n",
       "6   [0.04500000000000052, 0.04500000000000052, 0.0...  \n",
       "7   [0.04500000000000052, 0.04500000000000052, 0.0...  \n",
       "8   [0.04500000000000052, 0.04500000000000052, 0.0...  \n",
       "9   [0.04500000000000052, 0.04500000000000052, 0.0...  \n",
       "10  [0.04500000000000052, 0.04500000000000052, 0.0...  \n",
       "11  [0.04500000000000052, 0.04500000000000052, 0.0...  \n",
       "12  [0.04500000000000052, 0.04500000000000052, 0.0...  \n",
       "13  [0.04500000000000052, 0.04500000000000052, 0.0...  \n",
       "14  [0.04500000000000052, 0.04500000000000052, 0.0...  \n",
       "15  [0.04500000000000052, 0.04500000000000052, 0.0...  \n",
       "16  [0.04500000000000052, 0.04500000000000052, 0.0...  \n",
       "17  [0.04500000000000052, 0.04500000000000052, 0.0...  \n",
       "18  [0.04500000000000052, 0.04500000000000052, 0.0...  \n",
       "19  [0.04500000000000052, 0.04500000000000052, 0.0...  \n",
       "20  [0.04500000000000052, 0.04500000000000052, 0.0...  \n",
       "21  [0.04500000000000052, 0.04500000000000052, 0.0...  \n",
       "22  [0.04500000000000052, 0.04500000000000052, 0.0...  \n",
       "23  [0.04500000000000052, 0.04500000000000052, 0.0...  \n",
       "24  [0.04500000000000052, 0.04500000000000052, 0.0...  \n",
       "25  [0.04500000000000052, 0.04500000000000052, 0.0...  "
      ]
     },
     "metadata": {},
     "output_type": "display_data"
    }
   ],
   "source": [
    "display(api.get_trf_data(sn=\"SN001\", return_type=\"dataframe\"))"
   ]
  },
  {
   "cell_type": "markdown",
   "metadata": {},
   "source": [
    "Get the last 15 datapoints since January 1st:"
   ]
  },
  {
   "cell_type": "code",
   "execution_count": 38,
   "metadata": {
    "scrolled": true
   },
   "outputs": [
    {
     "name": "stdout",
     "output_type": "stream",
     "text": [
      "http://localhost:5000/api/v1/raw-trf-data/ token GET\n",
      "<Response [200]>\n"
     ]
    },
    {
     "data": {
      "text/html": [
       "<div>\n",
       "<style scoped>\n",
       "    .dataframe tbody tr th:only-of-type {\n",
       "        vertical-align: middle;\n",
       "    }\n",
       "\n",
       "    .dataframe tbody tr th {\n",
       "        vertical-align: top;\n",
       "    }\n",
       "\n",
       "    .dataframe thead th {\n",
       "        text-align: right;\n",
       "    }\n",
       "</style>\n",
       "<table border=\"1\" class=\"dataframe\">\n",
       "  <thead>\n",
       "    <tr style=\"text-align: right;\">\n",
       "      <th></th>\n",
       "      <th>id</th>\n",
       "      <th>mcr_wl</th>\n",
       "      <th>scan_datetime</th>\n",
       "      <th>scan_set_id</th>\n",
       "      <th>trf_scan</th>\n",
       "    </tr>\n",
       "  </thead>\n",
       "  <tbody>\n",
       "    <tr>\n",
       "      <th>0</th>\n",
       "      <td>268</td>\n",
       "      <td>325</td>\n",
       "      <td>Thu, 09 Jan 2020 01:43:20 GMT</td>\n",
       "      <td>37</td>\n",
       "      <td>[0.04500000000000052, 0.04500000000000052, 0.0...</td>\n",
       "    </tr>\n",
       "    <tr>\n",
       "      <th>1</th>\n",
       "      <td>269</td>\n",
       "      <td>326</td>\n",
       "      <td>Thu, 09 Jan 2020 01:43:20 GMT</td>\n",
       "      <td>37</td>\n",
       "      <td>[0.04500000000000052, 0.04500000000000052, 0.0...</td>\n",
       "    </tr>\n",
       "    <tr>\n",
       "      <th>2</th>\n",
       "      <td>270</td>\n",
       "      <td>327</td>\n",
       "      <td>Thu, 09 Jan 2020 01:43:20 GMT</td>\n",
       "      <td>37</td>\n",
       "      <td>[0.04500000000000052, 0.04500000000000052, 0.0...</td>\n",
       "    </tr>\n",
       "    <tr>\n",
       "      <th>3</th>\n",
       "      <td>271</td>\n",
       "      <td>328</td>\n",
       "      <td>Thu, 09 Jan 2020 01:43:20 GMT</td>\n",
       "      <td>37</td>\n",
       "      <td>[0.04500000000000052, 0.04500000000000052, 0.0...</td>\n",
       "    </tr>\n",
       "    <tr>\n",
       "      <th>4</th>\n",
       "      <td>272</td>\n",
       "      <td>329</td>\n",
       "      <td>Thu, 09 Jan 2020 01:43:20 GMT</td>\n",
       "      <td>37</td>\n",
       "      <td>[0.04500000000000052, 0.04500000000000052, 0.0...</td>\n",
       "    </tr>\n",
       "    <tr>\n",
       "      <th>5</th>\n",
       "      <td>273</td>\n",
       "      <td>330</td>\n",
       "      <td>Thu, 09 Jan 2020 01:43:20 GMT</td>\n",
       "      <td>37</td>\n",
       "      <td>[0.04500000000000052, 0.04500000000000052, 0.0...</td>\n",
       "    </tr>\n",
       "    <tr>\n",
       "      <th>6</th>\n",
       "      <td>274</td>\n",
       "      <td>331</td>\n",
       "      <td>Thu, 09 Jan 2020 01:43:20 GMT</td>\n",
       "      <td>37</td>\n",
       "      <td>[0.04500000000000052, 0.04500000000000052, 0.0...</td>\n",
       "    </tr>\n",
       "    <tr>\n",
       "      <th>7</th>\n",
       "      <td>275</td>\n",
       "      <td>332</td>\n",
       "      <td>Thu, 09 Jan 2020 01:43:20 GMT</td>\n",
       "      <td>37</td>\n",
       "      <td>[0.04500000000000052, 0.04500000000000052, 0.0...</td>\n",
       "    </tr>\n",
       "    <tr>\n",
       "      <th>8</th>\n",
       "      <td>276</td>\n",
       "      <td>333</td>\n",
       "      <td>Thu, 09 Jan 2020 01:43:20 GMT</td>\n",
       "      <td>37</td>\n",
       "      <td>[0.04500000000000052, 0.04500000000000052, 0.0...</td>\n",
       "    </tr>\n",
       "    <tr>\n",
       "      <th>9</th>\n",
       "      <td>277</td>\n",
       "      <td>334</td>\n",
       "      <td>Thu, 09 Jan 2020 01:43:20 GMT</td>\n",
       "      <td>37</td>\n",
       "      <td>[0.04500000000000052, 0.04500000000000052, 0.0...</td>\n",
       "    </tr>\n",
       "    <tr>\n",
       "      <th>10</th>\n",
       "      <td>278</td>\n",
       "      <td>335</td>\n",
       "      <td>Thu, 09 Jan 2020 01:43:20 GMT</td>\n",
       "      <td>37</td>\n",
       "      <td>[0.04500000000000052, 0.04500000000000052, 0.0...</td>\n",
       "    </tr>\n",
       "    <tr>\n",
       "      <th>11</th>\n",
       "      <td>279</td>\n",
       "      <td>336</td>\n",
       "      <td>Thu, 09 Jan 2020 01:43:20 GMT</td>\n",
       "      <td>37</td>\n",
       "      <td>[0.04500000000000052, 0.04500000000000052, 0.0...</td>\n",
       "    </tr>\n",
       "    <tr>\n",
       "      <th>12</th>\n",
       "      <td>280</td>\n",
       "      <td>337</td>\n",
       "      <td>Thu, 09 Jan 2020 01:43:20 GMT</td>\n",
       "      <td>37</td>\n",
       "      <td>[0.04500000000000052, 0.04500000000000052, 0.0...</td>\n",
       "    </tr>\n",
       "    <tr>\n",
       "      <th>13</th>\n",
       "      <td>281</td>\n",
       "      <td>338</td>\n",
       "      <td>Thu, 09 Jan 2020 01:43:20 GMT</td>\n",
       "      <td>37</td>\n",
       "      <td>[0.04500000000000052, 0.04500000000000052, 0.0...</td>\n",
       "    </tr>\n",
       "    <tr>\n",
       "      <th>14</th>\n",
       "      <td>282</td>\n",
       "      <td>339</td>\n",
       "      <td>Thu, 09 Jan 2020 01:43:20 GMT</td>\n",
       "      <td>37</td>\n",
       "      <td>[0.04500000000000052, 0.04500000000000052, 0.0...</td>\n",
       "    </tr>\n",
       "  </tbody>\n",
       "</table>\n",
       "</div>"
      ],
      "text/plain": [
       "     id  mcr_wl                  scan_datetime  scan_set_id  \\\n",
       "0   268     325  Thu, 09 Jan 2020 01:43:20 GMT           37   \n",
       "1   269     326  Thu, 09 Jan 2020 01:43:20 GMT           37   \n",
       "2   270     327  Thu, 09 Jan 2020 01:43:20 GMT           37   \n",
       "3   271     328  Thu, 09 Jan 2020 01:43:20 GMT           37   \n",
       "4   272     329  Thu, 09 Jan 2020 01:43:20 GMT           37   \n",
       "5   273     330  Thu, 09 Jan 2020 01:43:20 GMT           37   \n",
       "6   274     331  Thu, 09 Jan 2020 01:43:20 GMT           37   \n",
       "7   275     332  Thu, 09 Jan 2020 01:43:20 GMT           37   \n",
       "8   276     333  Thu, 09 Jan 2020 01:43:20 GMT           37   \n",
       "9   277     334  Thu, 09 Jan 2020 01:43:20 GMT           37   \n",
       "10  278     335  Thu, 09 Jan 2020 01:43:20 GMT           37   \n",
       "11  279     336  Thu, 09 Jan 2020 01:43:20 GMT           37   \n",
       "12  280     337  Thu, 09 Jan 2020 01:43:20 GMT           37   \n",
       "13  281     338  Thu, 09 Jan 2020 01:43:20 GMT           37   \n",
       "14  282     339  Thu, 09 Jan 2020 01:43:20 GMT           37   \n",
       "\n",
       "                                             trf_scan  \n",
       "0   [0.04500000000000052, 0.04500000000000052, 0.0...  \n",
       "1   [0.04500000000000052, 0.04500000000000052, 0.0...  \n",
       "2   [0.04500000000000052, 0.04500000000000052, 0.0...  \n",
       "3   [0.04500000000000052, 0.04500000000000052, 0.0...  \n",
       "4   [0.04500000000000052, 0.04500000000000052, 0.0...  \n",
       "5   [0.04500000000000052, 0.04500000000000052, 0.0...  \n",
       "6   [0.04500000000000052, 0.04500000000000052, 0.0...  \n",
       "7   [0.04500000000000052, 0.04500000000000052, 0.0...  \n",
       "8   [0.04500000000000052, 0.04500000000000052, 0.0...  \n",
       "9   [0.04500000000000052, 0.04500000000000052, 0.0...  \n",
       "10  [0.04500000000000052, 0.04500000000000052, 0.0...  \n",
       "11  [0.04500000000000052, 0.04500000000000052, 0.0...  \n",
       "12  [0.04500000000000052, 0.04500000000000052, 0.0...  \n",
       "13  [0.04500000000000052, 0.04500000000000052, 0.0...  \n",
       "14  [0.04500000000000052, 0.04500000000000052, 0.0...  "
      ]
     },
     "metadata": {},
     "output_type": "display_data"
    }
   ],
   "source": [
    "display(api.get_trf_data(sn=\"SN001\", return_type=\"dataframe\",\n",
    "                 params=dict(filter=\"scan_datetime,gt,2020-01-08 17:46:19\", limit=15)))"
   ]
  },
  {
   "cell_type": "code",
   "execution_count": null,
   "metadata": {},
   "outputs": [],
   "source": [
    "#api.delete_trf_scan_sets() #TODO"
   ]
  },
  {
   "cell_type": "markdown",
   "metadata": {},
   "source": [
    "### `roboatenviro.RoboatEnviro.get_ssf_data(sn, return_type=\"json\", final_data=True, **kwargs)`\n",
    "\n",
    "Use this method to retrieve a list of SSF data for a given SN."
   ]
  },
  {
   "cell_type": "code",
   "execution_count": 40,
   "metadata": {},
   "outputs": [
    {
     "name": "stdout",
     "output_type": "stream",
     "text": [
      "http://localhost:5000/api/v1/raw-ssf-data/ token GET\n",
      "<Response [200]>\n"
     ]
    },
    {
     "data": {
      "text/plain": [
       "[]"
      ]
     },
     "metadata": {},
     "output_type": "display_data"
    }
   ],
   "source": [
    "#api.add_ssf_data()\n",
    "display(api.get_ssf_data(sn=\"SN001\", return_type='json'))\n",
    "#api.delete_ssf_data()"
   ]
  },
  {
   "cell_type": "markdown",
   "metadata": {},
   "source": [
    "### `roboatenviro.RoboatEnviro.get_sensor_logs(return_type=\"json\", **kwargs)`\n",
    "\n",
    "Use this method to retrieve a list of sensor logs."
   ]
  },
  {
   "cell_type": "code",
   "execution_count": null,
   "metadata": {},
   "outputs": [],
   "source": [
    "params = {\n",
    "    \"sensor_sn\": \"SN001\",\n",
    "    \"log_datetime\": datetime.utcnow().isoformat(),\n",
    "    \"log\": \"test log\",\n",
    "    \"priority\": \"LOW\"\n",
    "}\n",
    "api.add_sensor_log(params=params)\n",
    "api.get_sensor_logs(return_type='dataframe')\n",
    "#api.delete_sensor_log() #TODO"
   ]
  },
  {
   "cell_type": "code",
   "execution_count": null,
   "metadata": {},
   "outputs": [],
   "source": [
    "params = {\n",
    "    \"sensor_sn\": \"SN001\",\n",
    "    \"metadata_datetime\": datetime.utcnow().isoformat(),\n",
    "    \"sensor_metadata\": \"test metadata\",\n",
    "}\n",
    "api.add_sensor_metadata(params=params)\n",
    "api.get_sensor_metadata(return_type='dataframe')\n",
    "#api.delete_sensor_metadata() #TODO"
   ]
  },
  {
   "cell_type": "markdown",
   "metadata": {},
   "source": [
    "### `roboatenviro.RoboatEnviro.get_deployments(return_type=\"json\", **kwargs)`\n",
    "\n",
    "Use this method to retrieve a list of deployments."
   ]
  },
  {
   "cell_type": "code",
   "execution_count": 15,
   "metadata": {},
   "outputs": [
    {
     "name": "stdout",
     "output_type": "stream",
     "text": [
      "http://localhost:5000/api/v1/deployments token GET\n",
      "<Response [200]>\n"
     ]
    },
    {
     "data": {
      "text/html": [
       "<div>\n",
       "<style scoped>\n",
       "    .dataframe tbody tr th:only-of-type {\n",
       "        vertical-align: middle;\n",
       "    }\n",
       "\n",
       "    .dataframe tbody tr th {\n",
       "        vertical-align: top;\n",
       "    }\n",
       "\n",
       "    .dataframe thead th {\n",
       "        text-align: right;\n",
       "    }\n",
       "</style>\n",
       "<table border=\"1\" class=\"dataframe\">\n",
       "  <thead>\n",
       "    <tr style=\"text-align: right;\">\n",
       "      <th></th>\n",
       "      <th>end_datetime</th>\n",
       "      <th>id</th>\n",
       "      <th>name</th>\n",
       "      <th>start_datetime</th>\n",
       "      <th>summary</th>\n",
       "    </tr>\n",
       "  </thead>\n",
       "  <tbody>\n",
       "    <tr>\n",
       "      <th>0</th>\n",
       "      <td>Thu, 09 Jan 2020 20:55:55 GMT</td>\n",
       "      <td>1</td>\n",
       "      <td>Test deployment</td>\n",
       "      <td>Wed, 08 Jan 2020 20:55:55 GMT</td>\n",
       "      <td>Just a test</td>\n",
       "    </tr>\n",
       "  </tbody>\n",
       "</table>\n",
       "</div>"
      ],
      "text/plain": [
       "                    end_datetime  id             name  \\\n",
       "0  Thu, 09 Jan 2020 20:55:55 GMT   1  Test deployment   \n",
       "\n",
       "                  start_datetime      summary  \n",
       "0  Wed, 08 Jan 2020 20:55:55 GMT  Just a test  "
      ]
     },
     "execution_count": 15,
     "metadata": {},
     "output_type": "execute_result"
    }
   ],
   "source": [
    "params = {\n",
    "    \"name\": \"Test deployment\",\n",
    "    \"start_datetime\": datetime.utcnow().isoformat(),\n",
    "    \"end_datetime\": (datetime.utcnow() + timedelta(days=1)).isoformat(),\n",
    "    \"summary\": \"Just a test\"\n",
    "}\n",
    "#api.add_deployment(params=params)\n",
    "#api.add_deployment_sensors(param=params)\n",
    "api.get_deployments(return_type='dataframe')\n",
    "#api.get_deployment_sensors(return_type='dataframe')\n",
    "#api.delete_deployment()"
   ]
  },
  {
   "cell_type": "code",
   "execution_count": null,
   "metadata": {},
   "outputs": [],
   "source": [
    "#visualize trf scan sets, animations of timeseries + stacked line plot\n",
    "#visulize ssf scans"
   ]
  }
 ],
 "metadata": {
  "kernelspec": {
   "display_name": "roboatenvirovenv",
   "language": "python",
   "name": "roboatenvirovenv"
  },
  "language_info": {
   "codemirror_mode": {
    "name": "ipython",
    "version": 3
   },
   "file_extension": ".py",
   "mimetype": "text/x-python",
   "name": "python",
   "nbconvert_exporter": "python",
   "pygments_lexer": "ipython3",
   "version": "3.5.2"
  }
 },
 "nbformat": 4,
 "nbformat_minor": 2
}
