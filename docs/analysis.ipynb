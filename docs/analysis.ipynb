{
 "cells": [
  {
   "cell_type": "code",
   "execution_count": null,
   "metadata": {},
   "outputs": [],
   "source": [
    "import os\n",
    "import roboatenviro\n",
    "\n",
    "# get the token from a different environment variable\n",
    "#token = os.getenv(\"ROBOAT-ENVIRO_APIKEY_DEV\")\n",
    "#hardcoded in here for now...\n",
    "token = \"token\"\n",
    "\n",
    "# set up the roboatenviro.RoboatEnviro object\n",
    "# here, we are also going to manually set the endpoint because I am doing this tutorial on \n",
    "# localhost...\n",
    "api = roboatenviro.RoboatEnviro(token=token, endpoint=\"http://localhost:5000/api/\")"
   ]
  }
 ],
 "metadata": {
  "kernelspec": {
   "display_name": "roboatenvirovenv",
   "language": "python",
   "name": "roboatenvirovenv"
  },
  "language_info": {
   "codemirror_mode": {
    "name": "ipython",
    "version": 3
   },
   "file_extension": ".py",
   "mimetype": "text/x-python",
   "name": "python",
   "nbconvert_exporter": "python",
   "pygments_lexer": "ipython3",
   "version": "3.5.2"
  }
 },
 "nbformat": 4,
 "nbformat_minor": 2
}
